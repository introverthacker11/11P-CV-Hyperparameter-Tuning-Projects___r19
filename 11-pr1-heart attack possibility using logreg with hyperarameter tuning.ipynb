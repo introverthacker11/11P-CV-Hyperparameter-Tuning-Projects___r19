{
 "cells": [
  {
   "cell_type": "code",
   "execution_count": 1,
   "id": "e8b8e5bf",
   "metadata": {},
   "outputs": [],
   "source": [
    "import pandas as pd"
   ]
  },
  {
   "cell_type": "code",
   "execution_count": 3,
   "id": "c1d87515",
   "metadata": {},
   "outputs": [],
   "source": [
    "naam = '11-pr1-heart.csv'"
   ]
  },
  {
   "cell_type": "code",
   "execution_count": null,
   "id": "e152459b",
   "metadata": {},
   "outputs": [],
   "source": [
    "df1 = pd.read_csv()"
   ]
  }
 ],
 "metadata": {
  "kernelspec": {
   "display_name": "Python 3 (ipykernel)",
   "language": "python",
   "name": "python3"
  },
  "language_info": {
   "codemirror_mode": {
    "name": "ipython",
    "version": 3
   },
   "file_extension": ".py",
   "mimetype": "text/x-python",
   "name": "python",
   "nbconvert_exporter": "python",
   "pygments_lexer": "ipython3",
   "version": "3.11.5"
  }
 },
 "nbformat": 4,
 "nbformat_minor": 5
}
